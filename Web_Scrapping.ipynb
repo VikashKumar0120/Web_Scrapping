{
  "nbformat": 4,
  "nbformat_minor": 0,
  "metadata": {
    "colab": {
      "provenance": [],
      "authorship_tag": "ABX9TyMZlRbXLzLFeCJJQiFH+vWK",
      "include_colab_link": true
    },
    "kernelspec": {
      "name": "python3",
      "display_name": "Python 3"
    },
    "language_info": {
      "name": "python"
    }
  },
  "cells": [
    {
      "cell_type": "markdown",
      "metadata": {
        "id": "view-in-github",
        "colab_type": "text"
      },
      "source": [
        "<a href=\"https://colab.research.google.com/github/VikashKumar0120/Web_Scrapping/blob/main/Web_Scrapping.ipynb\" target=\"_parent\"><img src=\"https://colab.research.google.com/assets/colab-badge.svg\" alt=\"Open In Colab\"/></a>"
      ]
    },
    {
      "cell_type": "code",
      "execution_count": null,
      "metadata": {
        "id": "SJwg3EhdwV8i"
      },
      "outputs": [],
      "source": [
        "import pandas as pd\n",
        "from bs4 import BeautifulSoup\n",
        "import requests\n",
        "\n",
        "base_url = \"https://books.toscrape.com/catalogue/page-{}.html\"\n",
        "\n",
        "books_names = []\n",
        "ratings_list = []\n",
        "prices = []\n",
        "links_list = []\n",
        "\n",
        "for page_num in range(1, 51):  # Assuming there are 50 pages\n",
        "    url = base_url.format(page_num)\n",
        "    response = requests.get(url)\n",
        "    html = response.text\n",
        "    data = BeautifulSoup(html, 'html.parser')\n",
        "\n",
        "    titles = data.find_all('a', title=True)\n",
        "    for title in titles:\n",
        "        books_names.append(title['title'])\n",
        "\n",
        "    p_tags = data.find_all('p', class_='star-rating')\n",
        "    for p in p_tags:\n",
        "        rating = p['class'][1]\n",
        "        ratings_list.append(rating)\n",
        "\n",
        "    price_tags = data.find_all('p', class_='price_color')\n",
        "    for tag in price_tags:\n",
        "        price = tag.get_text(strip=True)\n",
        "        prices.append(price[1:])\n",
        "\n",
        "    links = data.find_all('h3')\n",
        "    for link in links:\n",
        "        href = link.a.get('href')\n",
        "        links_list.append(\"https://books.toscrape.com/catalogue/\" + href)\n",
        "\n",
        "df = pd.DataFrame({\n",
        "    'Book Title': books_names,\n",
        "    'Rating': ratings_list,\n",
        "    'Price': prices,\n",
        "    'Link': links_list\n",
        "})\n",
        "\n",
        "print(df)\n",
        "#df.describe()\n",
        "\n",
        "#df.to_excel('books_data.xlsx', index=False)\n",
        "\n",
        "#from google.colab import files\n",
        "\n",
        "#files.download('books_data.xlsx')\n",
        "\n"
      ]
    }
  ]
}